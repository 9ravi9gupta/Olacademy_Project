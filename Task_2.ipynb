{
 "cells": [
  {
   "cell_type": "markdown",
   "metadata": {},
   "source": [
    "# Olcademy Artificial Neural Network Task:-"
   ]
  },
  {
   "cell_type": "markdown",
   "metadata": {},
   "source": [
    "Task C:\n",
    "\n",
    "Group your audience based on powerful filters such as demographics, channels, behaviours, traffic source to see how different groups engage with your business.\n",
    "\n",
    "\n",
    "@author:--Ravi Gupta"
   ]
  },
  {
   "cell_type": "code",
   "execution_count": 324,
   "metadata": {},
   "outputs": [],
   "source": [
    "import pandas as pd\n",
    "import numpy as np\n",
    "import matplotlib.pyplot as plt"
   ]
  },
  {
   "cell_type": "markdown",
   "metadata": {},
   "source": [
    "# Creating Dataset"
   ]
  },
  {
   "cell_type": "raw",
   "metadata": {},
   "source": [
    "Here we are creating dataset which contains different filter:\n",
    "\n",
    "1.Demographics:- like cities,gender,age\n",
    "2.Behaviours of persons\n",
    "3.Different Channels:-a)Online MarketPlaces(OMP), b)WholeSales(WS), c)Affiliate Sales(AS), d)Outsourced Sales, e)Value Added Resellers \n",
    "4.Traffic Sources:-a)Direct Traffic b)Referring c)Search Engine d)Natives Ads e)Social Traffic\n",
    "\n",
    "n_samples = n\n",
    "features = 6"
   ]
  },
  {
   "cell_type": "code",
   "execution_count": 325,
   "metadata": {},
   "outputs": [
    {
     "name": "stdout",
     "output_type": "stream",
     "text": [
      "(10000, 6)\n"
     ]
    },
    {
     "data": {
      "text/html": [
       "<div>\n",
       "<style scoped>\n",
       "    .dataframe tbody tr th:only-of-type {\n",
       "        vertical-align: middle;\n",
       "    }\n",
       "\n",
       "    .dataframe tbody tr th {\n",
       "        vertical-align: top;\n",
       "    }\n",
       "\n",
       "    .dataframe thead th {\n",
       "        text-align: right;\n",
       "    }\n",
       "</style>\n",
       "<table border=\"1\" class=\"dataframe\">\n",
       "  <thead>\n",
       "    <tr style=\"text-align: right;\">\n",
       "      <th></th>\n",
       "      <th>cities</th>\n",
       "      <th>gender</th>\n",
       "      <th>age</th>\n",
       "      <th>behaviours</th>\n",
       "      <th>channels</th>\n",
       "      <th>traffic_sources</th>\n",
       "    </tr>\n",
       "  </thead>\n",
       "  <tbody>\n",
       "    <tr>\n",
       "      <th>0</th>\n",
       "      <td>mumbai</td>\n",
       "      <td>female</td>\n",
       "      <td>21_35</td>\n",
       "      <td>Logical</td>\n",
       "      <td>WS</td>\n",
       "      <td>NA</td>\n",
       "    </tr>\n",
       "    <tr>\n",
       "      <th>1</th>\n",
       "      <td>indore</td>\n",
       "      <td>male</td>\n",
       "      <td>21-35</td>\n",
       "      <td>Precise</td>\n",
       "      <td>VAR</td>\n",
       "      <td>DT</td>\n",
       "    </tr>\n",
       "    <tr>\n",
       "      <th>2</th>\n",
       "      <td>bokaro</td>\n",
       "      <td>male</td>\n",
       "      <td>21-35</td>\n",
       "      <td>Caution</td>\n",
       "      <td>VAR</td>\n",
       "      <td>ST</td>\n",
       "    </tr>\n",
       "    <tr>\n",
       "      <th>3</th>\n",
       "      <td>bhopal</td>\n",
       "      <td>male</td>\n",
       "      <td>21-35</td>\n",
       "      <td>Careless</td>\n",
       "      <td>AS</td>\n",
       "      <td>ST</td>\n",
       "    </tr>\n",
       "    <tr>\n",
       "      <th>4</th>\n",
       "      <td>banglore</td>\n",
       "      <td>male</td>\n",
       "      <td>50-60</td>\n",
       "      <td>Precise</td>\n",
       "      <td>WS</td>\n",
       "      <td>Ref</td>\n",
       "    </tr>\n",
       "  </tbody>\n",
       "</table>\n",
       "</div>"
      ],
      "text/plain": [
       "     cities  gender    age behaviours channels traffic_sources\n",
       "0    mumbai  female  21_35    Logical       WS              NA\n",
       "1    indore    male  21-35    Precise      VAR              DT\n",
       "2    bokaro    male  21-35    Caution      VAR              ST\n",
       "3    bhopal    male  21-35   Careless       AS              ST\n",
       "4  banglore    male  50-60    Precise       WS             Ref"
      ]
     },
     "execution_count": 325,
     "metadata": {},
     "output_type": "execute_result"
    }
   ],
   "source": [
    "d = {}\n",
    "n=1000\n",
    "\n",
    "d['cities'] = ['bokaro','bokaro','mumbai','bokaro','bhopal','banglore','indore','indore','banglore','indore']*n\n",
    "d['gender'] = ['male','female','male','male','female','male','male','female','male','female']*n\n",
    "d['age'] = ['15-21','21-35','35-50','50-60','21_35','21_35','21_35','15-21','15-21','21-35']*n\n",
    "d['behaviours'] = ['Caution','Logical','Organized','Precise',\"Careless\",'Logical','Logical','Caution','Logical','Precise']*n\n",
    "d['channels'] = ['OMP','WS','AS','OS','VAR','OMS','VAR','VAR','VAR','OMS']*n\n",
    "d['traffic_sources'] = ['DT','Ref','SE','NA','ST','ST','ST','ST','NA','NA']*n\n",
    "\n",
    "\n",
    "keys = list(d.keys())\n",
    "for key in keys:\n",
    "    np.random.shuffle(d[key])\n",
    "    \n",
    "df = pd.DataFrame(d)  #--converting to dataframe\n",
    "print(df.shape)\n",
    "df.head()"
   ]
  },
  {
   "cell_type": "code",
   "execution_count": 326,
   "metadata": {},
   "outputs": [
    {
     "data": {
      "text/html": [
       "<div>\n",
       "<style scoped>\n",
       "    .dataframe tbody tr th:only-of-type {\n",
       "        vertical-align: middle;\n",
       "    }\n",
       "\n",
       "    .dataframe tbody tr th {\n",
       "        vertical-align: top;\n",
       "    }\n",
       "\n",
       "    .dataframe thead th {\n",
       "        text-align: right;\n",
       "    }\n",
       "</style>\n",
       "<table border=\"1\" class=\"dataframe\">\n",
       "  <thead>\n",
       "    <tr style=\"text-align: right;\">\n",
       "      <th></th>\n",
       "      <th>cities</th>\n",
       "      <th>gender</th>\n",
       "      <th>age</th>\n",
       "      <th>behaviours</th>\n",
       "      <th>channels</th>\n",
       "      <th>traffic_sources</th>\n",
       "    </tr>\n",
       "  </thead>\n",
       "  <tbody>\n",
       "    <tr>\n",
       "      <th>count</th>\n",
       "      <td>10000</td>\n",
       "      <td>10000</td>\n",
       "      <td>10000</td>\n",
       "      <td>10000</td>\n",
       "      <td>10000</td>\n",
       "      <td>10000</td>\n",
       "    </tr>\n",
       "    <tr>\n",
       "      <th>unique</th>\n",
       "      <td>5</td>\n",
       "      <td>2</td>\n",
       "      <td>5</td>\n",
       "      <td>5</td>\n",
       "      <td>6</td>\n",
       "      <td>5</td>\n",
       "    </tr>\n",
       "    <tr>\n",
       "      <th>top</th>\n",
       "      <td>bokaro</td>\n",
       "      <td>male</td>\n",
       "      <td>21_35</td>\n",
       "      <td>Logical</td>\n",
       "      <td>VAR</td>\n",
       "      <td>ST</td>\n",
       "    </tr>\n",
       "    <tr>\n",
       "      <th>freq</th>\n",
       "      <td>3000</td>\n",
       "      <td>6000</td>\n",
       "      <td>3000</td>\n",
       "      <td>4000</td>\n",
       "      <td>4000</td>\n",
       "      <td>4000</td>\n",
       "    </tr>\n",
       "  </tbody>\n",
       "</table>\n",
       "</div>"
      ],
      "text/plain": [
       "        cities gender    age behaviours channels traffic_sources\n",
       "count    10000  10000  10000      10000    10000           10000\n",
       "unique       5      2      5          5        6               5\n",
       "top     bokaro   male  21_35    Logical      VAR              ST\n",
       "freq      3000   6000   3000       4000     4000            4000"
      ]
     },
     "execution_count": 326,
     "metadata": {},
     "output_type": "execute_result"
    }
   ],
   "source": [
    "df.describe()"
   ]
  },
  {
   "cell_type": "code",
   "execution_count": 327,
   "metadata": {},
   "outputs": [
    {
     "data": {
      "text/plain": [
       "<matplotlib.axes._subplots.AxesSubplot at 0x1ca704a0908>"
      ]
     },
     "execution_count": 327,
     "metadata": {},
     "output_type": "execute_result"
    },
    {
     "data": {
      "image/png": "[encoded data removed]",
      "text/plain": [
       "<Figure size 432x288 with 1 Axes>"
      ]
     },
     "metadata": {},
     "output_type": "display_data"
    }
   ],
   "source": [
    "df.iloc[:,0].value_counts().plot.bar()"
   ]
  },
  {
   "cell_type": "code",
   "execution_count": 328,
   "metadata": {},
   "outputs": [
    {
     "data": {
      "text/plain": [
       "<matplotlib.axes._subplots.AxesSubplot at 0x1ca704f53c8>"
      ]
     },
     "execution_count": 328,
     "metadata": {},
     "output_type": "execute_result"
    },
    {
     "data": {
      "image/png": "[encoded data removed]",
      "text/plain": [
       "<Figure size 432x288 with 1 Axes>"
      ]
     },
     "metadata": {},
     "output_type": "display_data"
    }
   ],
   "source": [
    "df.iloc[:,1].value_counts().plot.bar()"
   ]
  },
  {
   "cell_type": "code",
   "execution_count": 329,
   "metadata": {},
   "outputs": [
    {
     "data": {
      "text/plain": [
       "<matplotlib.axes._subplots.AxesSubplot at 0x1ca70533f28>"
      ]
     },
     "execution_count": 329,
     "metadata": {},
     "output_type": "execute_result"
    },
    {
     "data": {
      "image/png": "[encoded data removed]",
      "text/plain": [
       "<Figure size 432x288 with 1 Axes>"
      ]
     },
     "metadata": {},
     "output_type": "display_data"
    }
   ],
   "source": [
    "df.iloc[:,5].value_counts().plot.bar()"
   ]
  },
  {
   "cell_type": "code",
   "execution_count": 330,
   "metadata": {},
   "outputs": [],
   "source": [
    "#--Concatenating all columns respectively with delimeter =' ' and convert it into csv file for proper access of all that values\n",
    "\n",
    "data = np.array(df)\n",
    "np.savetxt('data.csv',data,delimiter=' ',fmt='%s')"
   ]
  },
  {
   "cell_type": "code",
   "execution_count": 331,
   "metadata": {},
   "outputs": [
    {
     "data": {
      "text/html": [
       "<div>\n",
       "<style scoped>\n",
       "    .dataframe tbody tr th:only-of-type {\n",
       "        vertical-align: middle;\n",
       "    }\n",
       "\n",
       "    .dataframe tbody tr th {\n",
       "        vertical-align: top;\n",
       "    }\n",
       "\n",
       "    .dataframe thead th {\n",
       "        text-align: right;\n",
       "    }\n",
       "</style>\n",
       "<table border=\"1\" class=\"dataframe\">\n",
       "  <thead>\n",
       "    <tr style=\"text-align: right;\">\n",
       "      <th></th>\n",
       "      <th>mumbai female 21_35 Logical WS NA</th>\n",
       "    </tr>\n",
       "  </thead>\n",
       "  <tbody>\n",
       "    <tr>\n",
       "      <th>0</th>\n",
       "      <td>indore male 21-35 Precise VAR DT</td>\n",
       "    </tr>\n",
       "    <tr>\n",
       "      <th>1</th>\n",
       "      <td>bokaro male 21-35 Caution VAR ST</td>\n",
       "    </tr>\n",
       "    <tr>\n",
       "      <th>2</th>\n",
       "      <td>bhopal male 21-35 Careless AS ST</td>\n",
       "    </tr>\n",
       "    <tr>\n",
       "      <th>3</th>\n",
       "      <td>banglore male 50-60 Precise WS Ref</td>\n",
       "    </tr>\n",
       "    <tr>\n",
       "      <th>4</th>\n",
       "      <td>bokaro female 50-60 Precise VAR Ref</td>\n",
       "    </tr>\n",
       "  </tbody>\n",
       "</table>\n",
       "</div>"
      ],
      "text/plain": [
       "     mumbai female 21_35 Logical WS NA\n",
       "0     indore male 21-35 Precise VAR DT\n",
       "1     bokaro male 21-35 Caution VAR ST\n",
       "2     bhopal male 21-35 Careless AS ST\n",
       "3   banglore male 50-60 Precise WS Ref\n",
       "4  bokaro female 50-60 Precise VAR Ref"
      ]
     },
     "execution_count": 331,
     "metadata": {},
     "output_type": "execute_result"
    }
   ],
   "source": [
    "df_1 = pd.read_csv('data.csv')\n",
    "df_1.head()"
   ]
  },
  {
   "cell_type": "code",
   "execution_count": 332,
   "metadata": {},
   "outputs": [],
   "source": [
    "df_2 = pd.DataFrame()\n",
    "df_2['combined_words']=df_1.iloc[:,0]"
   ]
  },
  {
   "cell_type": "code",
   "execution_count": 333,
   "metadata": {},
   "outputs": [
    {
     "data": {
      "text/html": [
       "<div>\n",
       "<style scoped>\n",
       "    .dataframe tbody tr th:only-of-type {\n",
       "        vertical-align: middle;\n",
       "    }\n",
       "\n",
       "    .dataframe tbody tr th {\n",
       "        vertical-align: top;\n",
       "    }\n",
       "\n",
       "    .dataframe thead th {\n",
       "        text-align: right;\n",
       "    }\n",
       "</style>\n",
       "<table border=\"1\" class=\"dataframe\">\n",
       "  <thead>\n",
       "    <tr style=\"text-align: right;\">\n",
       "      <th></th>\n",
       "      <th>combined_words</th>\n",
       "    </tr>\n",
       "  </thead>\n",
       "  <tbody>\n",
       "    <tr>\n",
       "      <th>0</th>\n",
       "      <td>indore male 21-35 Precise VAR DT</td>\n",
       "    </tr>\n",
       "    <tr>\n",
       "      <th>1</th>\n",
       "      <td>bokaro male 21-35 Caution VAR ST</td>\n",
       "    </tr>\n",
       "    <tr>\n",
       "      <th>2</th>\n",
       "      <td>bhopal male 21-35 Careless AS ST</td>\n",
       "    </tr>\n",
       "    <tr>\n",
       "      <th>3</th>\n",
       "      <td>banglore male 50-60 Precise WS Ref</td>\n",
       "    </tr>\n",
       "    <tr>\n",
       "      <th>4</th>\n",
       "      <td>bokaro female 50-60 Precise VAR Ref</td>\n",
       "    </tr>\n",
       "  </tbody>\n",
       "</table>\n",
       "</div>"
      ],
      "text/plain": [
       "                        combined_words\n",
       "0     indore male 21-35 Precise VAR DT\n",
       "1     bokaro male 21-35 Caution VAR ST\n",
       "2     bhopal male 21-35 Careless AS ST\n",
       "3   banglore male 50-60 Precise WS Ref\n",
       "4  bokaro female 50-60 Precise VAR Ref"
      ]
     },
     "execution_count": 333,
     "metadata": {},
     "output_type": "execute_result"
    }
   ],
   "source": [
    "df_2.head()"
   ]
  },
  {
   "cell_type": "markdown",
   "metadata": {},
   "source": [
    "# Using countvectoriser to count the freq of occurence of each word"
   ]
  },
  {
   "cell_type": "code",
   "execution_count": 334,
   "metadata": {},
   "outputs": [],
   "source": [
    "from sklearn.feature_extraction.text import CountVectorizer\n",
    "\n",
    "count_vect = CountVectorizer()\n",
    "X_train_counts = count_vect.fit_transform(df_1.iloc[:,0])"
   ]
  },
  {
   "cell_type": "markdown",
   "metadata": {},
   "source": [
    "# Using tf-idf to reduce the effect of common words"
   ]
  },
  {
   "cell_type": "code",
   "execution_count": 335,
   "metadata": {},
   "outputs": [],
   "source": [
    "from sklearn.feature_extraction.text import TfidfTransformer\n",
    "\n",
    "tfidf_transformer = TfidfTransformer()\n",
    "\n",
    "X_train_tfidf = tfidf_transformer.fit_transform(X_train_counts)"
   ]
  },
  {
   "cell_type": "code",
   "execution_count": 336,
   "metadata": {},
   "outputs": [],
   "source": [
    "df_2['tf_idf'] = list(X_train_tfidf.toarray())"
   ]
  },
  {
   "cell_type": "code",
   "execution_count": 337,
   "metadata": {},
   "outputs": [
    {
     "data": {
      "text/html": [
       "<div>\n",
       "<style scoped>\n",
       "    .dataframe tbody tr th:only-of-type {\n",
       "        vertical-align: middle;\n",
       "    }\n",
       "\n",
       "    .dataframe tbody tr th {\n",
       "        vertical-align: top;\n",
       "    }\n",
       "\n",
       "    .dataframe thead th {\n",
       "        text-align: right;\n",
       "    }\n",
       "</style>\n",
       "<table border=\"1\" class=\"dataframe\">\n",
       "  <thead>\n",
       "    <tr style=\"text-align: right;\">\n",
       "      <th></th>\n",
       "      <th>combined_words</th>\n",
       "      <th>tf_idf</th>\n",
       "    </tr>\n",
       "  </thead>\n",
       "  <tbody>\n",
       "    <tr>\n",
       "      <th>0</th>\n",
       "      <td>indore male 21-35 Precise VAR DT</td>\n",
       "      <td>[0.0, 0.28122802210146, 0.0, 0.366062913992985...</td>\n",
       "    </tr>\n",
       "    <tr>\n",
       "      <th>1</th>\n",
       "      <td>bokaro male 21-35 Caution VAR ST</td>\n",
       "      <td>[0.0, 0.3143225641432801, 0.0, 0.4091407140164...</td>\n",
       "    </tr>\n",
       "    <tr>\n",
       "      <th>2</th>\n",
       "      <td>bhopal male 21-35 Careless AS ST</td>\n",
       "      <td>[0.0, 0.24859535687328432, 0.0, 0.323586319962...</td>\n",
       "    </tr>\n",
       "    <tr>\n",
       "      <th>3</th>\n",
       "      <td>banglore male 50-60 Precise WS Ref</td>\n",
       "      <td>[0.0, 0.0, 0.0, 0.0, 0.3504859425640168, 0.443...</td>\n",
       "    </tr>\n",
       "    <tr>\n",
       "      <th>4</th>\n",
       "      <td>bokaro female 50-60 Precise VAR Ref</td>\n",
       "      <td>[0.0, 0.0, 0.0, 0.0, 0.37809322442553084, 0.47...</td>\n",
       "    </tr>\n",
       "  </tbody>\n",
       "</table>\n",
       "</div>"
      ],
      "text/plain": [
       "                        combined_words  \\\n",
       "0     indore male 21-35 Precise VAR DT   \n",
       "1     bokaro male 21-35 Caution VAR ST   \n",
       "2     bhopal male 21-35 Careless AS ST   \n",
       "3   banglore male 50-60 Precise WS Ref   \n",
       "4  bokaro female 50-60 Precise VAR Ref   \n",
       "\n",
       "                                              tf_idf  \n",
       "0  [0.0, 0.28122802210146, 0.0, 0.366062913992985...  \n",
       "1  [0.0, 0.3143225641432801, 0.0, 0.4091407140164...  \n",
       "2  [0.0, 0.24859535687328432, 0.0, 0.323586319962...  \n",
       "3  [0.0, 0.0, 0.0, 0.0, 0.3504859425640168, 0.443...  \n",
       "4  [0.0, 0.0, 0.0, 0.0, 0.37809322442553084, 0.47...  "
      ]
     },
     "execution_count": 337,
     "metadata": {},
     "output_type": "execute_result"
    }
   ],
   "source": [
    "df_2.head()"
   ]
  },
  {
   "cell_type": "markdown",
   "metadata": {},
   "source": [
    "# Making Model"
   ]
  },
  {
   "cell_type": "code",
   "execution_count": 338,
   "metadata": {},
   "outputs": [],
   "source": [
    "from sklearn.neighbors import KDTree\n",
    "\n",
    "kdt = KDTree(df_2['tf_idf'].tolist(),leaf_size=3)"
   ]
  },
  {
   "cell_type": "markdown",
   "metadata": {},
   "source": [
    "# Model Testing "
   ]
  },
  {
   "cell_type": "code",
   "execution_count": 339,
   "metadata": {},
   "outputs": [
    {
     "name": "stdout",
     "output_type": "stream",
     "text": [
      "index no of input value: 142\n",
      "\n",
      "distance:\n",
      "\n",
      " [[0.         0.         0.         0.         0.         0.\n",
      "  0.         0.         0.         0.41926183 0.41926183 0.54164519\n",
      "  0.54164519 0.54164519 0.54164519 0.54164519 0.54164519 0.54164519\n",
      "  0.54164519 0.54164519]]\n",
      "\n",
      "index of value which is similar to input value:\n",
      "\n",
      " [[ 142 2184 1394 6607 2002 4699 4612 4416 7859 6564  289 9085 7318 4349\n",
      "  2596 6060 3798 6372 1842 5566]]\n"
     ]
    }
   ],
   "source": [
    "n = np.random.randint(low=0,high=df_2.shape[0])  \n",
    "print('index no of input value:',n)\n",
    "\n",
    "testing_row = df_2.iloc[n,:]        #--taking any random row\n",
    "\n",
    "dist , index = kdt.query( [testing_row[1]] , k=20)  #--finding distance of input point to another point and also note the index of that row\n",
    "print('\\ndistance:\\n\\n',dist)\n",
    "print('\\nindex of value which is similar to input value:\\n\\n',index)"
   ]
  },
  {
   "cell_type": "markdown",
   "metadata": {},
   "source": [
    "# Input_Testing_Value"
   ]
  },
  {
   "cell_type": "code",
   "execution_count": 340,
   "metadata": {},
   "outputs": [
    {
     "data": {
      "text/plain": [
       "'bokaro male 15-21 Logical VAR SE'"
      ]
     },
     "execution_count": 340,
     "metadata": {},
     "output_type": "execute_result"
    }
   ],
   "source": [
    "Input_Value = testing_row[0]\n",
    "Input_Value"
   ]
  },
  {
   "cell_type": "markdown",
   "metadata": {},
   "source": [
    "# Predicted_Output_Cluster_Points"
   ]
  },
  {
   "cell_type": "code",
   "execution_count": 341,
   "metadata": {},
   "outputs": [
    {
     "data": {
      "text/plain": [
       "142       bokaro male 15-21 Logical VAR SE\n",
       "2184      bokaro male 15-21 Logical VAR SE\n",
       "1394      bokaro male 15-21 Logical VAR SE\n",
       "6607      bokaro male 15-21 Logical VAR SE\n",
       "2002      bokaro male 15-21 Logical VAR SE\n",
       "4699      bokaro male 15-21 Logical VAR SE\n",
       "4612      bokaro male 15-21 Logical VAR SE\n",
       "4416      bokaro male 15-21 Logical VAR SE\n",
       "7859      bokaro male 15-21 Logical VAR SE\n",
       "6564    bokaro female 15-21 Logical VAR SE\n",
       "289     bokaro female 15-21 Logical VAR SE\n",
       "9085      indore male 15-21 Logical VAR SE\n",
       "7318      indore male 15-21 Logical VAR SE\n",
       "4349      indore male 15-21 Logical VAR SE\n",
       "2596      indore male 15-21 Logical VAR SE\n",
       "6060      indore male 15-21 Logical VAR SE\n",
       "3798      indore male 15-21 Logical VAR SE\n",
       "6372      indore male 15-21 Logical VAR SE\n",
       "1842      indore male 15-21 Logical VAR SE\n",
       "5566      indore male 15-21 Logical VAR SE\n",
       "Name: combined_words, dtype: object"
      ]
     },
     "execution_count": 341,
     "metadata": {},
     "output_type": "execute_result"
    }
   ],
   "source": [
    "predicted_value = df_2.iloc[index[0],0]\n",
    "predicted_value"
   ]
  },
  {
   "cell_type": "code",
   "execution_count": null,
   "metadata": {},
   "outputs": [],
   "source": []
  },
  {
   "cell_type": "code",
   "execution_count": null,
   "metadata": {},
   "outputs": [],
   "source": []
  }
 ],
 "metadata": {
  "kernelspec": {
   "display_name": "Python 3",
   "language": "python",
   "name": "python3"
  },
  "language_info": {
   "codemirror_mode": {
    "name": "ipython",
    "version": 3
   },
   "file_extension": ".py",
   "mimetype": "text/x-python",
   "name": "python",
   "nbconvert_exporter": "python",
   "pygments_lexer": "ipython3",
   "version": "3.6.5"
  }
 },
 "nbformat": 4,
 "nbformat_minor": 2
}
